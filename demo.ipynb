{
 "cells": [
  {
   "cell_type": "code",
   "execution_count": null,
   "metadata": {},
   "outputs": [],
   "source": [
    "import pickle\n",
    "\n",
    "import torch\n",
    "\n",
    "from src.model import build_model\n",
    "from src.data.loader import set_dico_parameters"
   ]
  },
  {
   "cell_type": "code",
   "execution_count": 9,
   "metadata": {},
   "outputs": [],
   "source": [
    "params_path = 'models/vtlm-on-cc/7pac37gtki/params.pkl'\n",
    "checkpoint_path = 'models/vtlm-on-cc/7pac37gtki/best-valid_en_ja_mlm_ppl.pth'\n",
    "dico_path = 'models/dico.pth'"
   ]
  },
  {
   "cell_type": "code",
   "execution_count": 10,
   "metadata": {},
   "outputs": [],
   "source": [
    "params = pickle.load(open(params_path, 'rb'))\n",
    "ckpt = torch.load(checkpoint_path, map_location='cpu')\n",
    "dico = torch.load(dico_path, map_location='cpu')"
   ]
  },
  {
   "cell_type": "code",
   "execution_count": 15,
   "metadata": {},
   "outputs": [],
   "source": [
    "def load_model(params, dico, ckpt):\n",
    "    data = {}\n",
    "    set_dico_parameters(params, data, dico)\n",
    "    dico = data['dico']\n",
    "\n",
    "    model = build_model(params, dico)\n",
    "\n",
    "    model.load_state_dict(ckpt['model'])\n",
    "\n",
    "    return model"
   ]
  },
  {
   "cell_type": "code",
   "execution_count": 16,
   "metadata": {},
   "outputs": [],
   "source": [
    "model = load_model(params, dico, ckpt)"
   ]
  }
 ],
 "metadata": {
  "kernelspec": {
   "display_name": "vtlm",
   "language": "python",
   "name": "python3"
  },
  "language_info": {
   "codemirror_mode": {
    "name": "ipython",
    "version": 3
   },
   "file_extension": ".py",
   "mimetype": "text/x-python",
   "name": "python",
   "nbconvert_exporter": "python",
   "pygments_lexer": "ipython3",
   "version": "3.9.13"
  },
  "orig_nbformat": 4
 },
 "nbformat": 4,
 "nbformat_minor": 2
}
